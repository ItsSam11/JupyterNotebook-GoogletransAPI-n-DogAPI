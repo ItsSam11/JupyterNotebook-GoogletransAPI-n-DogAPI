{
 "cells": [
  {
   "cell_type": "code",
   "execution_count": null,
   "metadata": {},
   "outputs": [],
   "source": [
    "%pip install googletrans==4.0.0rc1"
   ]
  },
  {
   "cell_type": "code",
   "execution_count": null,
   "metadata": {},
   "outputs": [],
   "source": [
    "import pandas as pd\n",
    "from googletrans import Translator\n",
    "import requests\n",
    "import json"
   ]
  },
  {
   "cell_type": "code",
   "execution_count": null,
   "metadata": {},
   "outputs": [],
   "source": [
    "data = requests.get('https://dog-api.kinduff.com/api/facts?number=5')"
   ]
  },
  {
   "cell_type": "code",
   "execution_count": null,
   "metadata": {},
   "outputs": [],
   "source": [
    "data_json = json.loads(data.text)\n",
    "val = data_json['facts']"
   ]
  },
  {
   "cell_type": "code",
   "execution_count": null,
   "metadata": {},
   "outputs": [],
   "source": [
    "translator = Translator()\n",
    "lst = []\n",
    "\n",
    "for i in val:\n",
    "    tra = translator.translate(i, dest='es')\n",
    "    lst.append(tra.text)"
   ]
  },
  {
   "cell_type": "code",
   "execution_count": null,
   "metadata": {},
   "outputs": [],
   "source": [
    "index = ['1', '2', '3', '4', '5']\n",
    "df = pd.DataFrame({'5 hechos acerca de perros': lst})\n",
    "df.index = index\n",
    "pd.set_option('display.max_colwidth', None)"
   ]
  },
  {
   "cell_type": "code",
   "execution_count": null,
   "metadata": {},
   "outputs": [],
   "source": [
    "#df_json = df.to_json()\n",
    "#info_json = json.dumps((lst, df_json))"
   ]
  },
  {
   "cell_type": "code",
   "execution_count": null,
   "metadata": {},
   "outputs": [],
   "source": [
    "#url = 'Aqui va la api de amazon'\n",
    "#cabecera = { \"Content-Type\": \"application/json\" }\n",
    "#info_sent = requests.post(url, headers=cabecera, data=info_json)"
   ]
  }
 ],
 "metadata": {
  "kernelspec": {
   "display_name": "Python 3",
   "language": "python",
   "name": "python3"
  },
  "language_info": {
   "codemirror_mode": {
    "name": "ipython",
    "version": 3
   },
   "file_extension": ".py",
   "mimetype": "text/x-python",
   "name": "python",
   "nbconvert_exporter": "python",
   "pygments_lexer": "ipython3",
   "version": "3.10.7"
  },
  "orig_nbformat": 4,
  "vscode": {
   "interpreter": {
    "hash": "3f4c40a06b657b2d6ce10ead4079a03f96f0d0308093b06e604c3c7a199e49b4"
   }
  }
 },
 "nbformat": 4,
 "nbformat_minor": 2
}
